{
 "cells": [
  {
   "cell_type": "code",
   "execution_count": 2,
   "metadata": {},
   "outputs": [
    {
     "name": "stdout",
     "output_type": "stream",
     "text": [
      "✅ Обновлено /home/jessnou/python/hackaton/virtual_guide/classes.json с 14 классами.\n"
     ]
    }
   ],
   "source": [
    "\n",
    "from app.helpers.ClassManager import ClassManager\n",
    "\n",
    "class_manager = ClassManager()\n",
    "\n",
    "class_manager.update_json()"
   ]
  }
 ],
 "metadata": {
  "kernelspec": {
   "display_name": "hackaton-env",
   "language": "python",
   "name": "python3"
  },
  "language_info": {
   "codemirror_mode": {
    "name": "ipython",
    "version": 3
   },
   "file_extension": ".py",
   "mimetype": "text/x-python",
   "name": "python",
   "nbconvert_exporter": "python",
   "pygments_lexer": "ipython3",
   "version": "3.10.12"
  }
 },
 "nbformat": 4,
 "nbformat_minor": 2
}
